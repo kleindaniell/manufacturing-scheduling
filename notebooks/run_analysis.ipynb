{
    "cells": [
        {
            "cell_type": "code",
            "execution_count": null,
            "id": "7fc48c95",
            "metadata": {},
            "outputs": [],
            "source": [
                "from pathlib import Path\n",
                "import matplotlib.pyplot as plt\n",
                "import plotly.express as px\n",
                "\n",
                "import pandas as pd\n",
                "import seaborn as sns\n",
                "\n",
                "from manusim.metrics import Metrics"
            ]
        },
        {
            "cell_type": "code",
            "execution_count": null,
            "id": "4684a036",
            "metadata": {},
            "outputs": [],
            "source": [
                "experiments_folder = Path(\"C:/github/master/manufacturing-scheduling/data/experiments\")\n",
                "experiment_path = list(experiments_folder.rglob(\"*2508061632_sbUpdateTest_0*\"))\n",
                "experiment_path = experiment_path[0]\n",
                "print(experiment_path )\n",
                "\n",
                "run = 1"
            ]
        },
        {
            "cell_type": "code",
            "execution_count": null,
            "id": "9ccaea7d",
            "metadata": {},
            "outputs": [],
            "source": [
                "dbr_metrics = Metrics(experiment_folder = experiment_path)\n",
                "dbr_metrics.read_logs()"
            ]
        },
        {
            "cell_type": "code",
            "execution_count": null,
            "id": "d68fff6e",
            "metadata": {},
            "outputs": [],
            "source": [
                "df_products = dbr_metrics.products_logs.copy()\n",
                "df_products[\"product\"] = df_products[\"product\"].apply(lambda x: x.replace(\"produto\", \"_p\") if isinstance(x, str) else x)\n",
                "df_products[\"variable\"] = df_products[\"variable\"] + df_products[\"product\"]\n",
                "df_products = df_products.drop(\"product\", axis=1)\n",
                "df_resources = dbr_metrics.resources_logs.copy()\n",
                "df_resources[\"resource\"] = df_resources[\"resource\"].apply(lambda x: x.replace(\"recurso\", \"_r\") if isinstance(x, str) else x)\n",
                "df_resources[\"variable\"] = df_resources[\"variable\"] + df_resources[\"resource\"]\n",
                "df_resources = df_resources.drop(\"resource\", axis=1)\n",
                "\n",
                "df_general = pd.concat(\n",
                "    [\n",
                "        df_products,\n",
                "        df_resources,\n",
                "        dbr_metrics.general_logs\n",
                "    ]\n",
                ")\n",
                "df_general\n"
            ]
        },
        {
            "cell_type": "code",
            "execution_count": null,
            "id": "7a135af3",
            "metadata": {},
            "outputs": [],
            "source": [
                "products = dbr_metrics.products_logs[\"product\"].unique()\n",
                "\n",
                "df = dbr_metrics.products_logs\n",
                "df = pd.concat([df, dbr_metrics.general_logs])\n",
                "\n",
                "variables = [\n",
                "    \"shipping_buffer_target\",\n",
                "    \"shipping_buffer_level\",\n",
                "    \"released\",\n",
                "    \"schedule_consumed\",\n",
                "    \"wip_log\",\n",
                "    \"fg_log\",\n",
                "    \"schedule_planned\",\n",
                "    \"constraint_buffer_level\"\n",
                "]\n",
                "\n",
                "\n",
                "df = df.loc[df[\"run\"]==run]\n",
                "df"
            ]
        },
        {
            "cell_type": "code",
            "execution_count": null,
            "id": "242b6b07",
            "metadata": {},
            "outputs": [],
            "source": [
                "\n",
                "save_plots = experiment_path / f\"plots_{run}\"\n",
                "save_plots.mkdir(exist_ok=True, parents=True)\n",
                "\n",
                "for product in products:\n",
                "    \n",
                "    df_tmp = df.loc[\n",
                "        (df[\"variable\"].isin(variables)) & \n",
                "        ((df[\"product\"]==product) | (df[\"product\"].isna()))\n",
                "    ]\n",
                "    fig = px.line(df_tmp, x=\"time\", y=\"value\", color=\"variable\", markers=True, title=product)\n",
                "    fig.write_html(save_plots / f\"timeline_{product}.html\")"
            ]
        },
        {
            "cell_type": "code",
            "execution_count": null,
            "id": "0e2079a6",
            "metadata": {},
            "outputs": [],
            "source": [
                "df_resouces = dbr_metrics.resources_logs\n",
                "df_resouces = df_resouces.loc[df_resouces[\"run\"]==run]\n",
                "print(df_resouces[\"variable\"].unique())"
            ]
        },
        {
            "cell_type": "code",
            "execution_count": null,
            "id": "208ef4d6",
            "metadata": {},
            "outputs": [],
            "source": [
                "df_break = df_resouces.loc[df_resouces[\"variable\"]==\"breakdowns\"]\n",
                "df_break.loc[:,\"variable\"] = df_break[\"variable\"]+df_break[\"resource\"]\n",
                "df_tmp = df_break[[\"time\", \"value\", \"variable\"]]\n",
                "df_tmp.loc[:,\"time\"] = df_tmp[\"time\"] + df_tmp[\"value\"]\n",
                "df_tmp.loc[:, \"value\"] = 0\n",
                "df_break = pd.concat([df_break, df_tmp]).reset_index().sort_values(\"time\")\n",
                "df_break"
            ]
        },
        {
            "cell_type": "code",
            "execution_count": null,
            "id": "0e2c799f",
            "metadata": {},
            "outputs": [],
            "source": [
                "df_wip = df.loc[df[\"variable\"]==\"wip_log\"]\n",
                "df_wip[\"variable\"] = df_wip[\"variable\"] + \"_\" + df_wip[\"product\"]\n",
                "df_wip = pd.concat([df_wip, df_break])\n",
                "fig = px.line(df_wip, x=\"time\", y=\"value\", color=\"variable\", markers=True)\n",
                "fig.write_html(save_plots / f\"timeline_wip.html\") \n"
            ]
        },
        {
            "cell_type": "code",
            "execution_count": null,
            "id": "62184a4d",
            "metadata": {},
            "outputs": [],
            "source": [
                "df.loc[\n",
                "    (df[\"variable\"]==\"fg_log\")\n",
                "].sort_values(by=[\"value\", \"time\"])"
            ]
        },
        {
            "cell_type": "code",
            "execution_count": null,
            "id": "2bda6eb9",
            "metadata": {},
            "outputs": [],
            "source": [
                "\n",
                "df_queue = df_resouces.loc[df_resouces[\"variable\"]==\"queues\"]\n",
                "df_queue[\"variable\"] = df_queue[\"variable\"] + \"_\" + df_queue[\"resource\"]\n",
                "df_queue = pd.concat([df_queue, df_break])\n",
                "fig = px.line(df_queue, x=\"time\", y=\"value\", color=\"variable\", markers=True)\n",
                "fig.write_html(save_plots / f\"timeline_queue.html\") "
            ]
        },
        {
            "cell_type": "code",
            "execution_count": null,
            "id": "df4d3421",
            "metadata": {},
            "outputs": [],
            "source": [
                "df_resouces = dbr_metrics.resources_logs\n",
                "print(df_resouces[\"variable\"].unique())\n"
            ]
        },
        {
            "cell_type": "code",
            "execution_count": null,
            "id": "56e577d7",
            "metadata": {},
            "outputs": [],
            "source": [
                "df_break = df_resouces.loc[df_resouces[\"variable\"]==\"breakdowns\"]\n",
                "df_break.loc[:,\"variable\"] = df_break[\"variable\"]+df_break[\"resource\"]\n",
                "df_tmp = df_break[[\"time\", \"value\", \"variable\"]]\n",
                "df_tmp.loc[:,\"time\"] = df_tmp[\"time\"] + df_tmp[\"value\"]\n",
                "df_tmp.loc[:, \"value\"] = 0\n",
                "df_break = pd.concat([df_break, df_tmp]).reset_index().sort_values(\"time\")\n",
                "df_break\n"
            ]
        },
        {
            "cell_type": "code",
            "execution_count": null,
            "id": "8e71aa16",
            "metadata": {},
            "outputs": [],
            "source": [
                "df = dbr_metrics.products_logs.copy()\n",
                "df = df.loc[df[\"variable\"]==\"schedule_planned\"]\n",
                "\n",
                "fig = px.line(df, x=\"time\", y=\"value\", color=\"product\", markers=True)\n",
                "fig.write_html(save_plots / f\"timeline_schedule_planned.html\") "
            ]
        },
        {
            "cell_type": "code",
            "execution_count": null,
            "id": "52c2e86c",
            "metadata": {},
            "outputs": [],
            "source": [
                "df = dbr_metrics.products_logs.copy()\n",
                "df = df.loc[df[\"variable\"]==\"schedule_consumed\"]\n",
                "\n",
                "fig = px.line(df, x=\"time\", y=\"value\", color=\"product\", markers=True)\n",
                "fig.write_html(save_plots / f\"timeline_schedule_consumed.html\") "
            ]
        },
        {
            "cell_type": "code",
            "execution_count": null,
            "id": "0a3e50ca",
            "metadata": {},
            "outputs": [],
            "source": []
        }
    ],
    "metadata": {
        "kernelspec": {
            "display_name": "scheduling",
            "language": "python",
            "name": "python3"
        },
        "language_info": {
            "codemirror_mode": {
                "name": "ipython",
                "version": 3
            },
            "file_extension": ".py",
            "mimetype": "text/x-python",
            "name": "python",
            "nbconvert_exporter": "python",
            "pygments_lexer": "ipython3",
            "version": "3.11.0"
        }
    },
    "nbformat": 4,
    "nbformat_minor": 5
}
